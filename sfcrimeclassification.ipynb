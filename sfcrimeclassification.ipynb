{
 "cells": [
  {
   "cell_type": "code",
   "execution_count": 1,
   "id": "9e9406ad",
   "metadata": {
    "_cell_guid": "b1076dfc-b9ad-4769-8c92-a6c4dae69d19",
    "_uuid": "8f2839f25d086af736a60e9eeb907d3b93b6e0e5",
    "execution": {
     "iopub.execute_input": "2021-08-05T14:50:31.861906Z",
     "iopub.status.busy": "2021-08-05T14:50:31.860996Z",
     "iopub.status.idle": "2021-08-05T14:50:31.866778Z",
     "shell.execute_reply": "2021-08-05T14:50:31.867327Z",
     "shell.execute_reply.started": "2021-08-05T14:37:04.868370Z"
    },
    "papermill": {
     "duration": 0.041986,
     "end_time": "2021-08-05T14:50:31.867633",
     "exception": false,
     "start_time": "2021-08-05T14:50:31.825647",
     "status": "completed"
    },
    "tags": []
   },
   "outputs": [
    {
     "name": "stdout",
     "output_type": "stream",
     "text": [
      "/kaggle/input/sf-crime/train.csv.zip\n",
      "/kaggle/input/sf-crime/sampleSubmission.csv.zip\n",
      "/kaggle/input/sf-crime/test.csv.zip\n"
     ]
    }
   ],
   "source": [
    "import numpy as np\n",
    "import pandas as pd\n",
    "import os\n",
    "for dirname, _, filenames in os.walk('/kaggle/input'):\n",
    "    for filename in filenames:\n",
    "        print(os.path.join(dirname, filename))"
   ]
  },
  {
   "cell_type": "code",
   "execution_count": 2,
   "id": "f5f8926f",
   "metadata": {
    "execution": {
     "iopub.execute_input": "2021-08-05T14:50:31.918100Z",
     "iopub.status.busy": "2021-08-05T14:50:31.917229Z",
     "iopub.status.idle": "2021-08-05T14:50:32.993701Z",
     "shell.execute_reply": "2021-08-05T14:50:32.994289Z",
     "shell.execute_reply.started": "2021-08-05T14:37:04.882514Z"
    },
    "papermill": {
     "duration": 1.104111,
     "end_time": "2021-08-05T14:50:32.994487",
     "exception": false,
     "start_time": "2021-08-05T14:50:31.890376",
     "status": "completed"
    },
    "tags": []
   },
   "outputs": [],
   "source": [
    "import matplotlib.pyplot as plt\n",
    "import seaborn as sns\n",
    "%matplotlib inline"
   ]
  },
  {
   "cell_type": "code",
   "execution_count": 3,
   "id": "8231c00a",
   "metadata": {
    "execution": {
     "iopub.execute_input": "2021-08-05T14:50:33.041845Z",
     "iopub.status.busy": "2021-08-05T14:50:33.040878Z",
     "iopub.status.idle": "2021-08-05T14:50:42.638412Z",
     "shell.execute_reply": "2021-08-05T14:50:42.637789Z",
     "shell.execute_reply.started": "2021-08-05T14:37:04.900110Z"
    },
    "papermill": {
     "duration": 9.62232,
     "end_time": "2021-08-05T14:50:42.638562",
     "exception": false,
     "start_time": "2021-08-05T14:50:33.016242",
     "status": "completed"
    },
    "tags": []
   },
   "outputs": [],
   "source": [
    "train = pd.read_csv('/kaggle/input/sf-crime/train.csv.zip', parse_dates= ['Dates'])\n",
    "test = pd.read_csv('/kaggle/input/sf-crime/test.csv.zip', parse_dates= ['Dates'], index_col = 'Id')\n",
    "samsub = pd.read_csv('/kaggle/input/sf-crime/sampleSubmission.csv.zip')"
   ]
  },
  {
   "cell_type": "code",
   "execution_count": 4,
   "id": "28ffcff2",
   "metadata": {
    "execution": {
     "iopub.execute_input": "2021-08-05T14:50:42.689710Z",
     "iopub.status.busy": "2021-08-05T14:50:42.688671Z",
     "iopub.status.idle": "2021-08-05T14:50:42.707304Z",
     "shell.execute_reply": "2021-08-05T14:50:42.707869Z",
     "shell.execute_reply.started": "2021-08-05T14:37:12.607515Z"
    },
    "papermill": {
     "duration": 0.04739,
     "end_time": "2021-08-05T14:50:42.708048",
     "exception": false,
     "start_time": "2021-08-05T14:50:42.660658",
     "status": "completed"
    },
    "tags": []
   },
   "outputs": [
    {
     "data": {
      "text/html": [
       "<div>\n",
       "<style scoped>\n",
       "    .dataframe tbody tr th:only-of-type {\n",
       "        vertical-align: middle;\n",
       "    }\n",
       "\n",
       "    .dataframe tbody tr th {\n",
       "        vertical-align: top;\n",
       "    }\n",
       "\n",
       "    .dataframe thead th {\n",
       "        text-align: right;\n",
       "    }\n",
       "</style>\n",
       "<table border=\"1\" class=\"dataframe\">\n",
       "  <thead>\n",
       "    <tr style=\"text-align: right;\">\n",
       "      <th></th>\n",
       "      <th>Dates</th>\n",
       "      <th>Category</th>\n",
       "      <th>Descript</th>\n",
       "      <th>DayOfWeek</th>\n",
       "      <th>PdDistrict</th>\n",
       "      <th>Resolution</th>\n",
       "      <th>Address</th>\n",
       "      <th>X</th>\n",
       "      <th>Y</th>\n",
       "    </tr>\n",
       "  </thead>\n",
       "  <tbody>\n",
       "    <tr>\n",
       "      <th>0</th>\n",
       "      <td>2015-05-13 23:53:00</td>\n",
       "      <td>WARRANTS</td>\n",
       "      <td>WARRANT ARREST</td>\n",
       "      <td>Wednesday</td>\n",
       "      <td>NORTHERN</td>\n",
       "      <td>ARREST, BOOKED</td>\n",
       "      <td>OAK ST / LAGUNA ST</td>\n",
       "      <td>-122.425892</td>\n",
       "      <td>37.774599</td>\n",
       "    </tr>\n",
       "    <tr>\n",
       "      <th>1</th>\n",
       "      <td>2015-05-13 23:53:00</td>\n",
       "      <td>OTHER OFFENSES</td>\n",
       "      <td>TRAFFIC VIOLATION ARREST</td>\n",
       "      <td>Wednesday</td>\n",
       "      <td>NORTHERN</td>\n",
       "      <td>ARREST, BOOKED</td>\n",
       "      <td>OAK ST / LAGUNA ST</td>\n",
       "      <td>-122.425892</td>\n",
       "      <td>37.774599</td>\n",
       "    </tr>\n",
       "  </tbody>\n",
       "</table>\n",
       "</div>"
      ],
      "text/plain": [
       "                Dates        Category                  Descript  DayOfWeek  \\\n",
       "0 2015-05-13 23:53:00        WARRANTS            WARRANT ARREST  Wednesday   \n",
       "1 2015-05-13 23:53:00  OTHER OFFENSES  TRAFFIC VIOLATION ARREST  Wednesday   \n",
       "\n",
       "  PdDistrict      Resolution             Address           X          Y  \n",
       "0   NORTHERN  ARREST, BOOKED  OAK ST / LAGUNA ST -122.425892  37.774599  \n",
       "1   NORTHERN  ARREST, BOOKED  OAK ST / LAGUNA ST -122.425892  37.774599  "
      ]
     },
     "execution_count": 4,
     "metadata": {},
     "output_type": "execute_result"
    }
   ],
   "source": [
    "train.head(2)"
   ]
  },
  {
   "cell_type": "code",
   "execution_count": 5,
   "id": "5202baf0",
   "metadata": {
    "execution": {
     "iopub.execute_input": "2021-08-05T14:50:42.756814Z",
     "iopub.status.busy": "2021-08-05T14:50:42.755842Z",
     "iopub.status.idle": "2021-08-05T14:50:42.769498Z",
     "shell.execute_reply": "2021-08-05T14:50:42.768921Z",
     "shell.execute_reply.started": "2021-08-05T14:37:12.625709Z"
    },
    "papermill": {
     "duration": 0.039226,
     "end_time": "2021-08-05T14:50:42.769636",
     "exception": false,
     "start_time": "2021-08-05T14:50:42.730410",
     "status": "completed"
    },
    "tags": []
   },
   "outputs": [
    {
     "data": {
      "text/html": [
       "<div>\n",
       "<style scoped>\n",
       "    .dataframe tbody tr th:only-of-type {\n",
       "        vertical-align: middle;\n",
       "    }\n",
       "\n",
       "    .dataframe tbody tr th {\n",
       "        vertical-align: top;\n",
       "    }\n",
       "\n",
       "    .dataframe thead th {\n",
       "        text-align: right;\n",
       "    }\n",
       "</style>\n",
       "<table border=\"1\" class=\"dataframe\">\n",
       "  <thead>\n",
       "    <tr style=\"text-align: right;\">\n",
       "      <th></th>\n",
       "      <th>Dates</th>\n",
       "      <th>DayOfWeek</th>\n",
       "      <th>PdDistrict</th>\n",
       "      <th>Address</th>\n",
       "      <th>X</th>\n",
       "      <th>Y</th>\n",
       "    </tr>\n",
       "    <tr>\n",
       "      <th>Id</th>\n",
       "      <th></th>\n",
       "      <th></th>\n",
       "      <th></th>\n",
       "      <th></th>\n",
       "      <th></th>\n",
       "      <th></th>\n",
       "    </tr>\n",
       "  </thead>\n",
       "  <tbody>\n",
       "    <tr>\n",
       "      <th>0</th>\n",
       "      <td>2015-05-10 23:59:00</td>\n",
       "      <td>Sunday</td>\n",
       "      <td>BAYVIEW</td>\n",
       "      <td>2000 Block of THOMAS AV</td>\n",
       "      <td>-122.399588</td>\n",
       "      <td>37.735051</td>\n",
       "    </tr>\n",
       "    <tr>\n",
       "      <th>1</th>\n",
       "      <td>2015-05-10 23:51:00</td>\n",
       "      <td>Sunday</td>\n",
       "      <td>BAYVIEW</td>\n",
       "      <td>3RD ST / REVERE AV</td>\n",
       "      <td>-122.391523</td>\n",
       "      <td>37.732432</td>\n",
       "    </tr>\n",
       "  </tbody>\n",
       "</table>\n",
       "</div>"
      ],
      "text/plain": [
       "                 Dates DayOfWeek PdDistrict                  Address  \\\n",
       "Id                                                                     \n",
       "0  2015-05-10 23:59:00    Sunday    BAYVIEW  2000 Block of THOMAS AV   \n",
       "1  2015-05-10 23:51:00    Sunday    BAYVIEW       3RD ST / REVERE AV   \n",
       "\n",
       "             X          Y  \n",
       "Id                         \n",
       "0  -122.399588  37.735051  \n",
       "1  -122.391523  37.732432  "
      ]
     },
     "execution_count": 5,
     "metadata": {},
     "output_type": "execute_result"
    }
   ],
   "source": [
    "test.head(2)"
   ]
  },
  {
   "cell_type": "code",
   "execution_count": 6,
   "id": "b870d5a2",
   "metadata": {
    "execution": {
     "iopub.execute_input": "2021-08-05T14:50:42.819346Z",
     "iopub.status.busy": "2021-08-05T14:50:42.818585Z",
     "iopub.status.idle": "2021-08-05T14:50:42.991249Z",
     "shell.execute_reply": "2021-08-05T14:50:42.990702Z",
     "shell.execute_reply.started": "2021-08-05T14:37:12.655113Z"
    },
    "papermill": {
     "duration": 0.198862,
     "end_time": "2021-08-05T14:50:42.991416",
     "exception": false,
     "start_time": "2021-08-05T14:50:42.792554",
     "status": "completed"
    },
    "tags": []
   },
   "outputs": [
    {
     "data": {
      "text/html": [
       "<div>\n",
       "<style scoped>\n",
       "    .dataframe tbody tr th:only-of-type {\n",
       "        vertical-align: middle;\n",
       "    }\n",
       "\n",
       "    .dataframe tbody tr th {\n",
       "        vertical-align: top;\n",
       "    }\n",
       "\n",
       "    .dataframe thead th {\n",
       "        text-align: right;\n",
       "    }\n",
       "</style>\n",
       "<table border=\"1\" class=\"dataframe\">\n",
       "  <thead>\n",
       "    <tr style=\"text-align: right;\">\n",
       "      <th></th>\n",
       "      <th>Dates</th>\n",
       "      <th>DayOfWeek</th>\n",
       "      <th>PdDistrict</th>\n",
       "      <th>Address</th>\n",
       "      <th>X</th>\n",
       "      <th>Y</th>\n",
       "    </tr>\n",
       "  </thead>\n",
       "  <tbody>\n",
       "    <tr>\n",
       "      <th>0</th>\n",
       "      <td>2015-05-13 23:53:00</td>\n",
       "      <td>Wednesday</td>\n",
       "      <td>NORTHERN</td>\n",
       "      <td>OAK ST / LAGUNA ST</td>\n",
       "      <td>-122.425892</td>\n",
       "      <td>37.774599</td>\n",
       "    </tr>\n",
       "    <tr>\n",
       "      <th>1</th>\n",
       "      <td>2015-05-13 23:53:00</td>\n",
       "      <td>Wednesday</td>\n",
       "      <td>NORTHERN</td>\n",
       "      <td>OAK ST / LAGUNA ST</td>\n",
       "      <td>-122.425892</td>\n",
       "      <td>37.774599</td>\n",
       "    </tr>\n",
       "  </tbody>\n",
       "</table>\n",
       "</div>"
      ],
      "text/plain": [
       "                Dates  DayOfWeek PdDistrict             Address           X  \\\n",
       "0 2015-05-13 23:53:00  Wednesday   NORTHERN  OAK ST / LAGUNA ST -122.425892   \n",
       "1 2015-05-13 23:53:00  Wednesday   NORTHERN  OAK ST / LAGUNA ST -122.425892   \n",
       "\n",
       "           Y  \n",
       "0  37.774599  \n",
       "1  37.774599  "
      ]
     },
     "execution_count": 6,
     "metadata": {},
     "output_type": "execute_result"
    }
   ],
   "source": [
    "a = list(test)\n",
    "t_data= train[a]\n",
    "main= pd.concat([t_data, test])\n",
    "df= main.copy()\n",
    "df.head(2)"
   ]
  },
  {
   "cell_type": "code",
   "execution_count": 7,
   "id": "9faac61e",
   "metadata": {
    "execution": {
     "iopub.execute_input": "2021-08-05T14:50:43.041371Z",
     "iopub.status.busy": "2021-08-05T14:50:43.040714Z",
     "iopub.status.idle": "2021-08-05T14:50:43.589699Z",
     "shell.execute_reply": "2021-08-05T14:50:43.589149Z",
     "shell.execute_reply.started": "2021-08-05T14:37:12.906229Z"
    },
    "papermill": {
     "duration": 0.575111,
     "end_time": "2021-08-05T14:50:43.589843",
     "exception": false,
     "start_time": "2021-08-05T14:50:43.014732",
     "status": "completed"
    },
    "tags": []
   },
   "outputs": [
    {
     "data": {
      "text/plain": [
       "Dates         0\n",
       "DayOfWeek     0\n",
       "PdDistrict    0\n",
       "Address       0\n",
       "X             0\n",
       "Y             0\n",
       "dtype: int64"
      ]
     },
     "execution_count": 7,
     "metadata": {},
     "output_type": "execute_result"
    }
   ],
   "source": [
    "t= train['Category']\n",
    "df.isnull().sum()"
   ]
  },
  {
   "cell_type": "code",
   "execution_count": 8,
   "id": "2edf486a",
   "metadata": {
    "execution": {
     "iopub.execute_input": "2021-08-05T14:50:43.642793Z",
     "iopub.status.busy": "2021-08-05T14:50:43.642051Z",
     "iopub.status.idle": "2021-08-05T14:50:44.083522Z",
     "shell.execute_reply": "2021-08-05T14:50:44.082973Z",
     "shell.execute_reply.started": "2021-08-05T14:37:13.446092Z"
    },
    "papermill": {
     "duration": 0.469949,
     "end_time": "2021-08-05T14:50:44.083679",
     "exception": false,
     "start_time": "2021-08-05T14:50:43.613730",
     "status": "completed"
    },
    "tags": []
   },
   "outputs": [
    {
     "name": "stdout",
     "output_type": "stream",
     "text": [
      "['ARSON' 'ASSAULT' 'BAD CHECKS' 'BRIBERY' 'BURGLARY' 'DISORDERLY CONDUCT'\n",
      " 'DRIVING UNDER THE INFLUENCE' 'DRUG/NARCOTIC' 'DRUNKENNESS'\n",
      " 'EMBEZZLEMENT' 'EXTORTION' 'FAMILY OFFENSES' 'FORGERY/COUNTERFEITING'\n",
      " 'FRAUD' 'GAMBLING' 'KIDNAPPING' 'LARCENY/THEFT' 'LIQUOR LAWS' 'LOITERING'\n",
      " 'MISSING PERSON' 'NON-CRIMINAL' 'OTHER OFFENSES'\n",
      " 'PORNOGRAPHY/OBSCENE MAT' 'PROSTITUTION' 'RECOVERED VEHICLE' 'ROBBERY'\n",
      " 'RUNAWAY' 'SECONDARY CODES' 'SEX OFFENSES FORCIBLE'\n",
      " 'SEX OFFENSES NON FORCIBLE' 'STOLEN PROPERTY' 'SUICIDE' 'SUSPICIOUS OCC'\n",
      " 'TREA' 'TRESPASS' 'VANDALISM' 'VEHICLE THEFT' 'WARRANTS' 'WEAPON LAWS']\n"
     ]
    }
   ],
   "source": [
    "from sklearn.preprocessing import LabelEncoder\n",
    "LB = LabelEncoder()\n",
    "tar = LB.fit_transform(t)\n",
    "print(LB.classes_)"
   ]
  },
  {
   "cell_type": "code",
   "execution_count": 9,
   "id": "ac89c4cd",
   "metadata": {
    "execution": {
     "iopub.execute_input": "2021-08-05T14:50:44.152205Z",
     "iopub.status.busy": "2021-08-05T14:50:44.151057Z",
     "iopub.status.idle": "2021-08-05T14:50:46.324826Z",
     "shell.execute_reply": "2021-08-05T14:50:46.324225Z",
     "shell.execute_reply.started": "2021-08-05T14:37:13.758155Z"
    },
    "papermill": {
     "duration": 2.217212,
     "end_time": "2021-08-05T14:50:46.324971",
     "exception": false,
     "start_time": "2021-08-05T14:50:44.107759",
     "status": "completed"
    },
    "tags": []
   },
   "outputs": [],
   "source": [
    "date = pd.to_datetime(main['Dates'])\n",
    "df['Date'] = date.dt.date\n",
    "df['Year'] = date.dt.year\n",
    "df['Month'] = date.dt.month\n",
    "df['Day'] = date.dt.day\n",
    "df['Hour'] = date.dt.hour\n",
    "df.drop('Dates', axis = 1, inplace = True)"
   ]
  },
  {
   "cell_type": "code",
   "execution_count": 10,
   "id": "f0e7739a",
   "metadata": {
    "execution": {
     "iopub.execute_input": "2021-08-05T14:50:46.838667Z",
     "iopub.status.busy": "2021-08-05T14:50:46.825871Z",
     "iopub.status.idle": "2021-08-05T14:50:47.417707Z",
     "shell.execute_reply": "2021-08-05T14:50:47.416995Z",
     "shell.execute_reply.started": "2021-08-05T14:37:15.907496Z"
    },
    "papermill": {
     "duration": 1.068689,
     "end_time": "2021-08-05T14:50:47.417848",
     "exception": false,
     "start_time": "2021-08-05T14:50:46.349159",
     "status": "completed"
    },
    "tags": []
   },
   "outputs": [],
   "source": [
    "date = df.groupby('Date').count().iloc[:, 0]"
   ]
  },
  {
   "cell_type": "code",
   "execution_count": 11,
   "id": "f35223cc",
   "metadata": {
    "execution": {
     "iopub.execute_input": "2021-08-05T14:50:47.478643Z",
     "iopub.status.busy": "2021-08-05T14:50:47.475489Z",
     "iopub.status.idle": "2021-08-05T14:50:47.891902Z",
     "shell.execute_reply": "2021-08-05T14:50:47.891124Z",
     "shell.execute_reply.started": "2021-08-05T14:37:16.944853Z"
    },
    "papermill": {
     "duration": 0.450218,
     "end_time": "2021-08-05T14:50:47.892056",
     "exception": false,
     "start_time": "2021-08-05T14:50:47.441838",
     "status": "completed"
    },
    "tags": []
   },
   "outputs": [
    {
     "data": {
      "text/plain": [
       "Text(389.0, 0.005, 'Median389.0')"
      ]
     },
     "execution_count": 11,
     "metadata": {},
     "output_type": "execute_result"
    },
    {
     "data": {
      "image/png": "[encoded data removed]",
      "text/plain": [
       "<Figure size 432x288 with 1 Axes>"
      ]
     },
     "metadata": {
      "needs_background": "light"
     },
     "output_type": "display_data"
    }
   ],
   "source": [
    "sns.kdeplot(data = date, shade = True)\n",
    "plt.axvline(x = date.median(), ymax = 0.95, linestyle = '--')\n",
    "plt.annotate('Median' + str(date.median()), xy = (date.median(), 0.005))"
   ]
  },
  {
   "cell_type": "code",
   "execution_count": 12,
   "id": "63ee7768",
   "metadata": {
    "execution": {
     "iopub.execute_input": "2021-08-05T14:50:48.066912Z",
     "iopub.status.busy": "2021-08-05T14:50:48.061767Z",
     "iopub.status.idle": "2021-08-05T14:50:48.989075Z",
     "shell.execute_reply": "2021-08-05T14:50:48.988534Z",
     "shell.execute_reply.started": "2021-08-05T14:37:17.204903Z"
    },
    "papermill": {
     "duration": 1.071392,
     "end_time": "2021-08-05T14:50:48.989223",
     "exception": false,
     "start_time": "2021-08-05T14:50:47.917831",
     "status": "completed"
    },
    "tags": []
   },
   "outputs": [
    {
     "name": "stderr",
     "output_type": "stream",
     "text": [
      "/opt/conda/lib/python3.7/site-packages/seaborn/_decorators.py:43: FutureWarning: Pass the following variable as a keyword arg: x. From version 0.12, the only valid positional argument will be `data`, and passing other arguments without an explicit keyword will result in an error or misinterpretation.\n",
      "  FutureWarning\n"
     ]
    },
    {
     "data": {
      "text/plain": [
       "<AxesSubplot:xlabel='PdDis', ylabel='count'>"
      ]
     },
     "execution_count": 12,
     "metadata": {},
     "output_type": "execute_result"
    },
    {
     "data": {
      "image/png": "[encoded data removed]",
      "text/plain": [
       "<Figure size 432x288 with 1 Axes>"
      ]
     },
     "metadata": {
      "needs_background": "light"
     },
     "output_type": "display_data"
    }
   ],
   "source": [
    "lb = LabelEncoder()\n",
    "df['PdDis'] = lb.fit_transform(df['PdDistrict'])\n",
    "sns.countplot(df['PdDis'])"
   ]
  },
  {
   "cell_type": "code",
   "execution_count": 13,
   "id": "c1b03747",
   "metadata": {
    "execution": {
     "iopub.execute_input": "2021-08-05T14:50:49.048925Z",
     "iopub.status.busy": "2021-08-05T14:50:49.048239Z",
     "iopub.status.idle": "2021-08-05T14:50:49.126249Z",
     "shell.execute_reply": "2021-08-05T14:50:49.125573Z",
     "shell.execute_reply.started": "2021-08-05T14:37:18.267165Z"
    },
    "papermill": {
     "duration": 0.110191,
     "end_time": "2021-08-05T14:50:49.126408",
     "exception": false,
     "start_time": "2021-08-05T14:50:49.016217",
     "status": "completed"
    },
    "tags": []
   },
   "outputs": [
    {
     "data": {
      "text/html": [
       "<div>\n",
       "<style scoped>\n",
       "    .dataframe tbody tr th:only-of-type {\n",
       "        vertical-align: middle;\n",
       "    }\n",
       "\n",
       "    .dataframe tbody tr th {\n",
       "        vertical-align: top;\n",
       "    }\n",
       "\n",
       "    .dataframe thead th {\n",
       "        text-align: right;\n",
       "    }\n",
       "</style>\n",
       "<table border=\"1\" class=\"dataframe\">\n",
       "  <thead>\n",
       "    <tr style=\"text-align: right;\">\n",
       "      <th></th>\n",
       "      <th>PdDistrict</th>\n",
       "      <th>PdDis</th>\n",
       "    </tr>\n",
       "  </thead>\n",
       "  <tbody>\n",
       "    <tr>\n",
       "      <th>0</th>\n",
       "      <td>NORTHERN</td>\n",
       "      <td>4</td>\n",
       "    </tr>\n",
       "    <tr>\n",
       "      <th>1</th>\n",
       "      <td>NORTHERN</td>\n",
       "      <td>4</td>\n",
       "    </tr>\n",
       "    <tr>\n",
       "      <th>2</th>\n",
       "      <td>NORTHERN</td>\n",
       "      <td>4</td>\n",
       "    </tr>\n",
       "    <tr>\n",
       "      <th>3</th>\n",
       "      <td>NORTHERN</td>\n",
       "      <td>4</td>\n",
       "    </tr>\n",
       "    <tr>\n",
       "      <th>4</th>\n",
       "      <td>PARK</td>\n",
       "      <td>5</td>\n",
       "    </tr>\n",
       "    <tr>\n",
       "      <th>5</th>\n",
       "      <td>INGLESIDE</td>\n",
       "      <td>2</td>\n",
       "    </tr>\n",
       "    <tr>\n",
       "      <th>6</th>\n",
       "      <td>INGLESIDE</td>\n",
       "      <td>2</td>\n",
       "    </tr>\n",
       "    <tr>\n",
       "      <th>7</th>\n",
       "      <td>BAYVIEW</td>\n",
       "      <td>0</td>\n",
       "    </tr>\n",
       "    <tr>\n",
       "      <th>8</th>\n",
       "      <td>RICHMOND</td>\n",
       "      <td>6</td>\n",
       "    </tr>\n",
       "    <tr>\n",
       "      <th>9</th>\n",
       "      <td>CENTRAL</td>\n",
       "      <td>1</td>\n",
       "    </tr>\n",
       "  </tbody>\n",
       "</table>\n",
       "</div>"
      ],
      "text/plain": [
       "  PdDistrict  PdDis\n",
       "0   NORTHERN      4\n",
       "1   NORTHERN      4\n",
       "2   NORTHERN      4\n",
       "3   NORTHERN      4\n",
       "4       PARK      5\n",
       "5  INGLESIDE      2\n",
       "6  INGLESIDE      2\n",
       "7    BAYVIEW      0\n",
       "8   RICHMOND      6\n",
       "9    CENTRAL      1"
      ]
     },
     "execution_count": 13,
     "metadata": {},
     "output_type": "execute_result"
    }
   ],
   "source": [
    "df[['PdDistrict', 'PdDis']].head(10)"
   ]
  },
  {
   "cell_type": "code",
   "execution_count": 14,
   "id": "74a18028",
   "metadata": {
    "execution": {
     "iopub.execute_input": "2021-08-05T14:50:49.249952Z",
     "iopub.status.busy": "2021-08-05T14:50:49.186838Z",
     "iopub.status.idle": "2021-08-05T14:50:49.301374Z",
     "shell.execute_reply": "2021-08-05T14:50:49.300827Z",
     "shell.execute_reply.started": "2021-08-05T14:37:18.346770Z"
    },
    "papermill": {
     "duration": 0.147645,
     "end_time": "2021-08-05T14:50:49.301521",
     "exception": false,
     "start_time": "2021-08-05T14:50:49.153876",
     "status": "completed"
    },
    "tags": []
   },
   "outputs": [],
   "source": [
    "df.drop('PdDistrict', axis = 1, inplace = True)"
   ]
  },
  {
   "cell_type": "code",
   "execution_count": 15,
   "id": "817f12be",
   "metadata": {
    "execution": {
     "iopub.execute_input": "2021-08-05T14:50:49.489068Z",
     "iopub.status.busy": "2021-08-05T14:50:49.478473Z",
     "iopub.status.idle": "2021-08-05T14:50:50.047264Z",
     "shell.execute_reply": "2021-08-05T14:50:50.046741Z",
     "shell.execute_reply.started": "2021-08-05T14:37:18.465153Z"
    },
    "papermill": {
     "duration": 0.718695,
     "end_time": "2021-08-05T14:50:50.047493",
     "exception": false,
     "start_time": "2021-08-05T14:50:49.328798",
     "status": "completed"
    },
    "tags": []
   },
   "outputs": [
    {
     "data": {
      "text/html": [
       "<div>\n",
       "<style scoped>\n",
       "    .dataframe tbody tr th:only-of-type {\n",
       "        vertical-align: middle;\n",
       "    }\n",
       "\n",
       "    .dataframe tbody tr th {\n",
       "        vertical-align: top;\n",
       "    }\n",
       "\n",
       "    .dataframe thead th {\n",
       "        text-align: right;\n",
       "    }\n",
       "</style>\n",
       "<table border=\"1\" class=\"dataframe\">\n",
       "  <thead>\n",
       "    <tr style=\"text-align: right;\">\n",
       "      <th></th>\n",
       "      <th>DayOfWeek</th>\n",
       "      <th>DayWeek</th>\n",
       "    </tr>\n",
       "  </thead>\n",
       "  <tbody>\n",
       "    <tr>\n",
       "      <th>0</th>\n",
       "      <td>Wednesday</td>\n",
       "      <td>6</td>\n",
       "    </tr>\n",
       "    <tr>\n",
       "      <th>1</th>\n",
       "      <td>Wednesday</td>\n",
       "      <td>6</td>\n",
       "    </tr>\n",
       "    <tr>\n",
       "      <th>2</th>\n",
       "      <td>Wednesday</td>\n",
       "      <td>6</td>\n",
       "    </tr>\n",
       "    <tr>\n",
       "      <th>3</th>\n",
       "      <td>Wednesday</td>\n",
       "      <td>6</td>\n",
       "    </tr>\n",
       "    <tr>\n",
       "      <th>4</th>\n",
       "      <td>Wednesday</td>\n",
       "      <td>6</td>\n",
       "    </tr>\n",
       "    <tr>\n",
       "      <th>5</th>\n",
       "      <td>Wednesday</td>\n",
       "      <td>6</td>\n",
       "    </tr>\n",
       "    <tr>\n",
       "      <th>6</th>\n",
       "      <td>Wednesday</td>\n",
       "      <td>6</td>\n",
       "    </tr>\n",
       "    <tr>\n",
       "      <th>7</th>\n",
       "      <td>Wednesday</td>\n",
       "      <td>6</td>\n",
       "    </tr>\n",
       "    <tr>\n",
       "      <th>8</th>\n",
       "      <td>Wednesday</td>\n",
       "      <td>6</td>\n",
       "    </tr>\n",
       "    <tr>\n",
       "      <th>9</th>\n",
       "      <td>Wednesday</td>\n",
       "      <td>6</td>\n",
       "    </tr>\n",
       "  </tbody>\n",
       "</table>\n",
       "</div>"
      ],
      "text/plain": [
       "   DayOfWeek  DayWeek\n",
       "0  Wednesday        6\n",
       "1  Wednesday        6\n",
       "2  Wednesday        6\n",
       "3  Wednesday        6\n",
       "4  Wednesday        6\n",
       "5  Wednesday        6\n",
       "6  Wednesday        6\n",
       "7  Wednesday        6\n",
       "8  Wednesday        6\n",
       "9  Wednesday        6"
      ]
     },
     "execution_count": 15,
     "metadata": {},
     "output_type": "execute_result"
    }
   ],
   "source": [
    "df['DayWeek'] = lb.fit_transform(df['DayOfWeek'])\n",
    "df[['DayOfWeek', 'DayWeek']].head(10)"
   ]
  },
  {
   "cell_type": "code",
   "execution_count": 16,
   "id": "924f29d5",
   "metadata": {
    "execution": {
     "iopub.execute_input": "2021-08-05T14:50:50.211407Z",
     "iopub.status.busy": "2021-08-05T14:50:50.163131Z",
     "iopub.status.idle": "2021-08-05T14:50:50.215609Z",
     "shell.execute_reply": "2021-08-05T14:50:50.214348Z",
     "shell.execute_reply.started": "2021-08-05T14:37:19.154288Z"
    },
    "papermill": {
     "duration": 0.133865,
     "end_time": "2021-08-05T14:50:50.215778",
     "exception": false,
     "start_time": "2021-08-05T14:50:50.081913",
     "status": "completed"
    },
    "tags": []
   },
   "outputs": [],
   "source": [
    "df.drop('DayOfWeek', axis = 1, inplace = True)"
   ]
  },
  {
   "cell_type": "code",
   "execution_count": 17,
   "id": "deaa7c40",
   "metadata": {
    "execution": {
     "iopub.execute_input": "2021-08-05T14:50:50.448471Z",
     "iopub.status.busy": "2021-08-05T14:50:50.447726Z",
     "iopub.status.idle": "2021-08-05T14:50:54.978202Z",
     "shell.execute_reply": "2021-08-05T14:50:54.977544Z",
     "shell.execute_reply.started": "2021-08-05T14:37:19.251041Z"
    },
    "papermill": {
     "duration": 4.734997,
     "end_time": "2021-08-05T14:50:54.978357",
     "exception": false,
     "start_time": "2021-08-05T14:50:50.243360",
     "status": "completed"
    },
    "tags": []
   },
   "outputs": [],
   "source": [
    "df['Block'] = df['Address'].str.contains('block', case = False)\n",
    "df['ST'] = df['Address'].str.contains('ST', case = False)\n",
    "df.drop('Address', axis = 1, inplace = True)"
   ]
  },
  {
   "cell_type": "code",
   "execution_count": 18,
   "id": "ed9852fe",
   "metadata": {
    "execution": {
     "iopub.execute_input": "2021-08-05T14:50:55.040638Z",
     "iopub.status.busy": "2021-08-05T14:50:55.039571Z",
     "iopub.status.idle": "2021-08-05T14:50:55.054591Z",
     "shell.execute_reply": "2021-08-05T14:50:55.055427Z",
     "shell.execute_reply.started": "2021-08-05T14:37:23.949924Z"
    },
    "papermill": {
     "duration": 0.049428,
     "end_time": "2021-08-05T14:50:55.055690",
     "exception": false,
     "start_time": "2021-08-05T14:50:55.006262",
     "status": "completed"
    },
    "tags": []
   },
   "outputs": [
    {
     "name": "stdout",
     "output_type": "stream",
     "text": [
      "-122.51364206429 -120.5\n",
      "37.7078790224135 90.0\n"
     ]
    }
   ],
   "source": [
    "print(df['X'].min(), df['X'].max())\n",
    "print(df['Y'].min(), df['Y'].max())"
   ]
  },
  {
   "cell_type": "code",
   "execution_count": 19,
   "id": "3f7064b0",
   "metadata": {
    "execution": {
     "iopub.execute_input": "2021-08-05T14:50:55.117895Z",
     "iopub.status.busy": "2021-08-05T14:50:55.116920Z",
     "iopub.status.idle": "2021-08-05T14:50:55.412566Z",
     "shell.execute_reply": "2021-08-05T14:50:55.411990Z",
     "shell.execute_reply.started": "2021-08-05T14:37:23.967896Z"
    },
    "papermill": {
     "duration": 0.328247,
     "end_time": "2021-08-05T14:50:55.412716",
     "exception": false,
     "start_time": "2021-08-05T14:50:55.084469",
     "status": "completed"
    },
    "tags": []
   },
   "outputs": [],
   "source": [
    "medX = df[df['X'] < -120.5]['X'].median()\n",
    "medY = df[df['Y'] < 90]['Y'].median()\n",
    "df.loc[df['X'] >= -120.5, 'X'] = medX\n",
    "df.loc[df['Y'] >= 90, 'Y'] = medY"
   ]
  },
  {
   "cell_type": "code",
   "execution_count": 20,
   "id": "652ea147",
   "metadata": {
    "execution": {
     "iopub.execute_input": "2021-08-05T14:50:55.474796Z",
     "iopub.status.busy": "2021-08-05T14:50:55.473843Z",
     "iopub.status.idle": "2021-08-05T14:50:55.489225Z",
     "shell.execute_reply": "2021-08-05T14:50:55.490235Z",
     "shell.execute_reply.started": "2021-08-05T14:37:24.249118Z"
    },
    "papermill": {
     "duration": 0.049605,
     "end_time": "2021-08-05T14:50:55.490435",
     "exception": false,
     "start_time": "2021-08-05T14:50:55.440830",
     "status": "completed"
    },
    "tags": []
   },
   "outputs": [],
   "source": [
    "df['X+Y'] = df['X'] + df['Y']\n",
    "df['X-Y'] = df['X'] - df['Y']"
   ]
  },
  {
   "cell_type": "code",
   "execution_count": 21,
   "id": "aa399552",
   "metadata": {
    "execution": {
     "iopub.execute_input": "2021-08-05T14:50:55.551941Z",
     "iopub.status.busy": "2021-08-05T14:50:55.551173Z",
     "iopub.status.idle": "2021-08-05T14:50:55.680560Z",
     "shell.execute_reply": "2021-08-05T14:50:55.679995Z",
     "shell.execute_reply.started": "2021-08-05T14:37:24.271965Z"
    },
    "papermill": {
     "duration": 0.162127,
     "end_time": "2021-08-05T14:50:55.680730",
     "exception": false,
     "start_time": "2021-08-05T14:50:55.518603",
     "status": "completed"
    },
    "tags": []
   },
   "outputs": [],
   "source": [
    "df.drop('Date', axis = 1, inplace = True)"
   ]
  },
  {
   "cell_type": "code",
   "execution_count": 22,
   "id": "54eb9cd2",
   "metadata": {
    "execution": {
     "iopub.execute_input": "2021-08-05T14:50:55.741757Z",
     "iopub.status.busy": "2021-08-05T14:50:55.741039Z",
     "iopub.status.idle": "2021-08-05T14:50:55.744232Z",
     "shell.execute_reply": "2021-08-05T14:50:55.743751Z",
     "shell.execute_reply.started": "2021-08-05T14:37:24.373915Z"
    },
    "papermill": {
     "duration": 0.035894,
     "end_time": "2021-08-05T14:50:55.744415",
     "exception": false,
     "start_time": "2021-08-05T14:50:55.708521",
     "status": "completed"
    },
    "tags": []
   },
   "outputs": [],
   "source": [
    "data_train = df[:train.shape[0]]\n",
    "data_test = df[train.shape[0]:]"
   ]
  },
  {
   "cell_type": "code",
   "execution_count": 23,
   "id": "9582a2c3",
   "metadata": {
    "execution": {
     "iopub.execute_input": "2021-08-05T14:50:55.806531Z",
     "iopub.status.busy": "2021-08-05T14:50:55.805798Z",
     "iopub.status.idle": "2021-08-05T14:53:42.306545Z",
     "shell.execute_reply": "2021-08-05T14:53:42.307026Z",
     "shell.execute_reply.started": "2021-08-05T14:37:24.380882Z"
    },
    "papermill": {
     "duration": 166.535161,
     "end_time": "2021-08-05T14:53:42.307285",
     "exception": false,
     "start_time": "2021-08-05T14:50:55.772124",
     "status": "completed"
    },
    "tags": []
   },
   "outputs": [
    {
     "data": {
      "text/html": [
       "<style type='text/css'>\n",
       ".datatable table.frame { margin-bottom: 0; }\n",
       ".datatable table.frame thead { border-bottom: none; }\n",
       ".datatable table.frame tr.coltypes td {  color: #FFFFFF;  line-height: 6px;  padding: 0 0.5em;}\n",
       ".datatable .bool    { background: #DDDD99; }\n",
       ".datatable .object  { background: #565656; }\n",
       ".datatable .int     { background: #5D9E5D; }\n",
       ".datatable .float   { background: #4040CC; }\n",
       ".datatable .str     { background: #CC4040; }\n",
       ".datatable .time    { background: #40CC40; }\n",
       ".datatable .row_index {  background: var(--jp-border-color3);  border-right: 1px solid var(--jp-border-color0);  color: var(--jp-ui-font-color3);  font-size: 9px;}\n",
       ".datatable .frame tbody td { text-align: left; }\n",
       ".datatable .frame tr.coltypes .row_index {  background: var(--jp-border-color0);}\n",
       ".datatable th:nth-child(2) { padding-left: 12px; }\n",
       ".datatable .hellipsis {  color: var(--jp-cell-editor-border-color);}\n",
       ".datatable .vellipsis {  background: var(--jp-layout-color0);  color: var(--jp-cell-editor-border-color);}\n",
       ".datatable .na {  color: var(--jp-cell-editor-border-color);  font-size: 80%;}\n",
       ".datatable .sp {  opacity: 0.25;}\n",
       ".datatable .footer { font-size: 9px; }\n",
       ".datatable .frame_dimensions {  background: var(--jp-border-color3);  border-top: 1px solid var(--jp-border-color0);  color: var(--jp-ui-font-color3);  display: inline-block;  opacity: 0.6;  padding: 1px 10px 1px 5px;}\n",
       "</style>\n"
      ],
      "text/plain": [
       "<IPython.core.display.HTML object>"
      ]
     },
     "metadata": {},
     "output_type": "display_data"
    },
    {
     "name": "stderr",
     "output_type": "stream",
     "text": [
      "/opt/conda/lib/python3.7/site-packages/lightgbm/basic.py:1702: UserWarning: Using categorical_feature in Dataset.\n",
      "  _log_warning('Using categorical_feature in Dataset.')\n"
     ]
    },
    {
     "name": "stdout",
     "output_type": "stream",
     "text": [
      "[LightGBM] [Warning] Auto-choosing row-wise multi-threading, the overhead of testing was 0.043711 seconds.\n",
      "You can set `force_row_wise=true` to remove the overhead.\n",
      "And if memory is not enough, you can set `force_col_wise=true`.\n",
      "[LightGBM] [Info] Total Bins 2026\n",
      "[LightGBM] [Info] Number of data points in the train set: 878049, number of used features: 12\n",
      "[LightGBM] [Info] Start training from score -6.363608\n",
      "[LightGBM] [Info] Start training from score -2.435509\n",
      "[LightGBM] [Info] Start training from score -7.679105\n",
      "[LightGBM] [Info] Start training from score -8.019031\n",
      "[LightGBM] [Info] Start training from score -3.173428\n",
      "[LightGBM] [Info] Start training from score -5.314447\n",
      "[LightGBM] [Info] Start training from score -5.958804\n",
      "[LightGBM] [Info] Start training from score -2.789256\n",
      "[LightGBM] [Info] Start training from score -5.323749\n",
      "[LightGBM] [Info] Start training from score -6.624123\n",
      "[LightGBM] [Info] Start training from score -8.140280\n",
      "[LightGBM] [Info] Start training from score -7.489014\n",
      "[LightGBM] [Info] Start training from score -4.416000\n",
      "[LightGBM] [Info] Start training from score -3.963552\n",
      "[LightGBM] [Info] Start training from score -8.701851\n",
      "[LightGBM] [Info] Start training from score -5.927124\n",
      "[LightGBM] [Info] Start training from score -1.613488\n",
      "[LightGBM] [Info] Start training from score -6.134271\n",
      "[LightGBM] [Info] Start training from score -6.574762\n",
      "[LightGBM] [Info] Start training from score -3.520029\n",
      "[LightGBM] [Info] Start training from score -2.252615\n",
      "[LightGBM] [Info] Start training from score -1.939977\n",
      "[LightGBM] [Info] Start training from score -10.594415\n",
      "[LightGBM] [Info] Start training from score -4.764935\n",
      "[LightGBM] [Info] Start training from score -5.634117\n",
      "[LightGBM] [Info] Start training from score -3.642208\n",
      "[LightGBM] [Info] Start training from score -6.111926\n",
      "[LightGBM] [Info] Start training from score -4.476618\n",
      "[LightGBM] [Info] Start training from score -5.298829\n",
      "[LightGBM] [Info] Start training from score -8.688245\n",
      "[LightGBM] [Info] Start training from score -5.264775\n",
      "[LightGBM] [Info] Start training from score -7.454976\n",
      "[LightGBM] [Info] Start training from score -3.330449\n",
      "[LightGBM] [Info] Start training from score -11.893698\n",
      "[LightGBM] [Info] Start training from score -4.786273\n",
      "[LightGBM] [Info] Start training from score -2.977170\n",
      "[LightGBM] [Info] Start training from score -2.792782\n",
      "[LightGBM] [Info] Start training from score -3.034950\n",
      "[LightGBM] [Info] Start training from score -4.631186\n",
      "[LightGBM] [Warning] No further splits with positive gain, best gain: -inf\n",
      "[LightGBM] [Warning] No further splits with positive gain, best gain: -inf\n",
      "[LightGBM] [Warning] No further splits with positive gain, best gain: -inf\n",
      "[LightGBM] [Warning] No further splits with positive gain, best gain: -inf\n",
      "[LightGBM] [Warning] No further splits with positive gain, best gain: -inf\n",
      "[LightGBM] [Warning] No further splits with positive gain, best gain: -inf\n",
      "[LightGBM] [Warning] No further splits with positive gain, best gain: -inf\n",
      "[LightGBM] [Warning] No further splits with positive gain, best gain: -inf\n",
      "[LightGBM] [Warning] No further splits with positive gain, best gain: -inf\n",
      "[LightGBM] [Warning] No further splits with positive gain, best gain: -inf\n",
      "[LightGBM] [Warning] No further splits with positive gain, best gain: -inf\n",
      "[LightGBM] [Warning] No further splits with positive gain, best gain: -inf\n",
      "[LightGBM] [Warning] No further splits with positive gain, best gain: -inf\n",
      "[LightGBM] [Warning] No further splits with positive gain, best gain: -inf\n",
      "[LightGBM] [Warning] No further splits with positive gain, best gain: -inf\n",
      "[LightGBM] [Warning] No further splits with positive gain, best gain: -inf\n",
      "[LightGBM] [Warning] No further splits with positive gain, best gain: -inf\n",
      "[LightGBM] [Warning] No further splits with positive gain, best gain: -inf\n",
      "[LightGBM] [Warning] No further splits with positive gain, best gain: -inf\n",
      "[LightGBM] [Warning] No further splits with positive gain, best gain: -inf\n",
      "[LightGBM] [Warning] No further splits with positive gain, best gain: -inf\n",
      "[LightGBM] [Warning] No further splits with positive gain, best gain: -inf\n",
      "[LightGBM] [Warning] No further splits with positive gain, best gain: -inf\n",
      "[LightGBM] [Warning] No further splits with positive gain, best gain: -inf\n",
      "[LightGBM] [Warning] No further splits with positive gain, best gain: -inf\n",
      "[LightGBM] [Warning] No further splits with positive gain, best gain: -inf\n",
      "[LightGBM] [Warning] No further splits with positive gain, best gain: -inf\n",
      "[LightGBM] [Warning] No further splits with positive gain, best gain: -inf\n",
      "[LightGBM] [Warning] No further splits with positive gain, best gain: -inf\n",
      "[LightGBM] [Warning] No further splits with positive gain, best gain: -inf\n",
      "[LightGBM] [Warning] No further splits with positive gain, best gain: -inf\n",
      "[LightGBM] [Warning] No further splits with positive gain, best gain: -inf\n",
      "[LightGBM] [Warning] No further splits with positive gain, best gain: -inf\n",
      "[LightGBM] [Warning] No further splits with positive gain, best gain: -inf\n",
      "[LightGBM] [Warning] No further splits with positive gain, best gain: -inf\n",
      "[LightGBM] [Warning] No further splits with positive gain, best gain: -inf\n",
      "[LightGBM] [Warning] No further splits with positive gain, best gain: -inf\n",
      "[LightGBM] [Warning] No further splits with positive gain, best gain: -inf\n",
      "[LightGBM] [Warning] No further splits with positive gain, best gain: -inf\n",
      "[LightGBM] [Warning] No further splits with positive gain, best gain: -inf\n",
      "[LightGBM] [Warning] No further splits with positive gain, best gain: -inf\n",
      "[LightGBM] [Warning] No further splits with positive gain, best gain: -inf\n",
      "[LightGBM] [Warning] No further splits with positive gain, best gain: -inf\n",
      "[LightGBM] [Warning] No further splits with positive gain, best gain: -inf\n",
      "[LightGBM] [Warning] No further splits with positive gain, best gain: -inf\n",
      "[LightGBM] [Warning] No further splits with positive gain, best gain: -inf\n",
      "[LightGBM] [Warning] No further splits with positive gain, best gain: -inf\n",
      "[LightGBM] [Warning] No further splits with positive gain, best gain: -inf\n",
      "[LightGBM] [Warning] No further splits with positive gain, best gain: -inf\n",
      "[LightGBM] [Warning] No further splits with positive gain, best gain: -inf\n",
      "[LightGBM] [Warning] No further splits with positive gain, best gain: -inf\n",
      "[LightGBM] [Warning] No further splits with positive gain, best gain: -inf\n",
      "[LightGBM] [Warning] No further splits with positive gain, best gain: -inf\n",
      "[LightGBM] [Warning] No further splits with positive gain, best gain: -inf\n",
      "[LightGBM] [Warning] No further splits with positive gain, best gain: -inf\n",
      "[LightGBM] [Warning] No further splits with positive gain, best gain: -inf\n",
      "[LightGBM] [Warning] No further splits with positive gain, best gain: -inf\n",
      "[LightGBM] [Warning] No further splits with positive gain, best gain: -inf\n",
      "[LightGBM] [Warning] No further splits with positive gain, best gain: -inf\n",
      "[LightGBM] [Warning] No further splits with positive gain, best gain: -inf\n",
      "[LightGBM] [Warning] No further splits with positive gain, best gain: -inf\n",
      "[LightGBM] [Warning] No further splits with positive gain, best gain: -inf\n",
      "[LightGBM] [Warning] No further splits with positive gain, best gain: -inf\n",
      "[LightGBM] [Warning] No further splits with positive gain, best gain: -inf\n",
      "[LightGBM] [Warning] No further splits with positive gain, best gain: -inf\n",
      "[LightGBM] [Warning] No further splits with positive gain, best gain: -inf\n",
      "[LightGBM] [Warning] No further splits with positive gain, best gain: -inf\n",
      "[LightGBM] [Warning] No further splits with positive gain, best gain: -inf\n",
      "[LightGBM] [Warning] No further splits with positive gain, best gain: -inf\n",
      "[LightGBM] [Warning] No further splits with positive gain, best gain: -inf\n",
      "[LightGBM] [Warning] No further splits with positive gain, best gain: -inf\n",
      "[LightGBM] [Warning] No further splits with positive gain, best gain: -inf\n",
      "[LightGBM] [Warning] No further splits with positive gain, best gain: -inf\n",
      "[LightGBM] [Warning] No further splits with positive gain, best gain: -inf\n",
      "[LightGBM] [Warning] No further splits with positive gain, best gain: -inf\n",
      "[LightGBM] [Warning] No further splits with positive gain, best gain: -inf\n",
      "[LightGBM] [Warning] No further splits with positive gain, best gain: -inf\n",
      "[LightGBM] [Warning] No further splits with positive gain, best gain: -inf\n",
      "[LightGBM] [Warning] No further splits with positive gain, best gain: -inf\n",
      "[LightGBM] [Warning] No further splits with positive gain, best gain: -inf\n",
      "[LightGBM] [Warning] No further splits with positive gain, best gain: -inf\n",
      "[LightGBM] [Warning] No further splits with positive gain, best gain: -inf\n",
      "[LightGBM] [Warning] No further splits with positive gain, best gain: -inf\n",
      "[LightGBM] [Warning] No further splits with positive gain, best gain: -inf\n",
      "[LightGBM] [Warning] No further splits with positive gain, best gain: -inf\n",
      "[LightGBM] [Warning] No further splits with positive gain, best gain: -inf\n",
      "[LightGBM] [Warning] No further splits with positive gain, best gain: -inf\n",
      "[LightGBM] [Warning] No further splits with positive gain, best gain: -inf\n",
      "[LightGBM] [Warning] No further splits with positive gain, best gain: -inf\n",
      "[LightGBM] [Warning] No further splits with positive gain, best gain: -inf\n",
      "[LightGBM] [Warning] No further splits with positive gain, best gain: -inf\n",
      "[LightGBM] [Warning] No further splits with positive gain, best gain: -inf\n",
      "[LightGBM] [Warning] No further splits with positive gain, best gain: -inf\n",
      "[LightGBM] [Warning] No further splits with positive gain, best gain: -inf\n",
      "[LightGBM] [Warning] No further splits with positive gain, best gain: -inf\n",
      "[LightGBM] [Warning] No further splits with positive gain, best gain: -inf\n",
      "[LightGBM] [Warning] No further splits with positive gain, best gain: -inf\n",
      "[LightGBM] [Warning] No further splits with positive gain, best gain: -inf\n",
      "[LightGBM] [Warning] No further splits with positive gain, best gain: -inf\n",
      "[LightGBM] [Warning] No further splits with positive gain, best gain: -inf\n",
      "[LightGBM] [Warning] No further splits with positive gain, best gain: -inf\n",
      "[LightGBM] [Warning] No further splits with positive gain, best gain: -inf\n",
      "[LightGBM] [Warning] No further splits with positive gain, best gain: -inf\n",
      "[LightGBM] [Warning] No further splits with positive gain, best gain: -inf\n",
      "[LightGBM] [Warning] No further splits with positive gain, best gain: -inf\n",
      "[LightGBM] [Warning] No further splits with positive gain, best gain: -inf\n",
      "[LightGBM] [Warning] No further splits with positive gain, best gain: -inf\n",
      "[LightGBM] [Warning] No further splits with positive gain, best gain: -inf\n",
      "[LightGBM] [Warning] No further splits with positive gain, best gain: -inf\n",
      "[LightGBM] [Warning] No further splits with positive gain, best gain: -inf\n",
      "[LightGBM] [Warning] No further splits with positive gain, best gain: -inf\n",
      "[LightGBM] [Warning] No further splits with positive gain, best gain: -inf\n",
      "[LightGBM] [Warning] No further splits with positive gain, best gain: -inf\n",
      "[LightGBM] [Warning] No further splits with positive gain, best gain: -inf\n",
      "[LightGBM] [Warning] No further splits with positive gain, best gain: -inf\n",
      "[LightGBM] [Warning] No further splits with positive gain, best gain: -inf\n",
      "[LightGBM] [Warning] No further splits with positive gain, best gain: -inf\n",
      "[LightGBM] [Warning] No further splits with positive gain, best gain: -inf\n",
      "[LightGBM] [Warning] No further splits with positive gain, best gain: -inf\n",
      "[LightGBM] [Warning] No further splits with positive gain, best gain: -inf\n",
      "[LightGBM] [Warning] No further splits with positive gain, best gain: -inf\n",
      "[LightGBM] [Warning] No further splits with positive gain, best gain: -inf\n",
      "[LightGBM] [Warning] No further splits with positive gain, best gain: -inf\n",
      "[LightGBM] [Warning] No further splits with positive gain, best gain: -inf\n",
      "[LightGBM] [Warning] No further splits with positive gain, best gain: -inf\n",
      "[LightGBM] [Warning] No further splits with positive gain, best gain: -inf\n",
      "[LightGBM] [Warning] No further splits with positive gain, best gain: -inf\n",
      "[LightGBM] [Warning] No further splits with positive gain, best gain: -inf\n",
      "[LightGBM] [Warning] No further splits with positive gain, best gain: -inf\n",
      "[LightGBM] [Warning] No further splits with positive gain, best gain: -inf\n",
      "[LightGBM] [Warning] No further splits with positive gain, best gain: -inf\n",
      "[LightGBM] [Warning] No further splits with positive gain, best gain: -inf\n",
      "[LightGBM] [Warning] No further splits with positive gain, best gain: -inf\n",
      "[LightGBM] [Warning] No further splits with positive gain, best gain: -inf\n",
      "[LightGBM] [Warning] No further splits with positive gain, best gain: -inf\n",
      "[LightGBM] [Warning] No further splits with positive gain, best gain: -inf\n",
      "[LightGBM] [Warning] No further splits with positive gain, best gain: -inf\n",
      "[LightGBM] [Warning] No further splits with positive gain, best gain: -inf\n",
      "[LightGBM] [Warning] No further splits with positive gain, best gain: -inf\n",
      "[LightGBM] [Warning] No further splits with positive gain, best gain: -inf\n",
      "[LightGBM] [Warning] No further splits with positive gain, best gain: -inf\n",
      "[LightGBM] [Warning] No further splits with positive gain, best gain: -inf\n",
      "[LightGBM] [Warning] No further splits with positive gain, best gain: -inf\n",
      "[LightGBM] [Warning] No further splits with positive gain, best gain: -inf\n",
      "[LightGBM] [Warning] No further splits with positive gain, best gain: -inf\n",
      "[LightGBM] [Warning] No further splits with positive gain, best gain: -inf\n",
      "[LightGBM] [Warning] No further splits with positive gain, best gain: -inf\n",
      "[LightGBM] [Warning] No further splits with positive gain, best gain: -inf\n",
      "[LightGBM] [Warning] No further splits with positive gain, best gain: -inf\n",
      "[LightGBM] [Warning] No further splits with positive gain, best gain: -inf\n",
      "[LightGBM] [Warning] No further splits with positive gain, best gain: -inf\n",
      "[LightGBM] [Warning] No further splits with positive gain, best gain: -inf\n",
      "[LightGBM] [Warning] No further splits with positive gain, best gain: -inf\n",
      "[LightGBM] [Warning] No further splits with positive gain, best gain: -inf\n",
      "[LightGBM] [Warning] No further splits with positive gain, best gain: -inf\n",
      "[LightGBM] [Warning] No further splits with positive gain, best gain: -inf\n",
      "[LightGBM] [Warning] No further splits with positive gain, best gain: -inf\n",
      "[LightGBM] [Warning] No further splits with positive gain, best gain: -inf\n",
      "[LightGBM] [Warning] No further splits with positive gain, best gain: -inf\n",
      "[LightGBM] [Warning] No further splits with positive gain, best gain: -inf\n",
      "[LightGBM] [Warning] No further splits with positive gain, best gain: -inf\n",
      "[LightGBM] [Warning] No further splits with positive gain, best gain: -inf\n",
      "[LightGBM] [Warning] No further splits with positive gain, best gain: -inf\n",
      "[LightGBM] [Warning] No further splits with positive gain, best gain: -inf\n",
      "[LightGBM] [Warning] No further splits with positive gain, best gain: -inf\n",
      "[LightGBM] [Warning] No further splits with positive gain, best gain: -inf\n",
      "[LightGBM] [Warning] No further splits with positive gain, best gain: -inf\n",
      "[LightGBM] [Warning] No further splits with positive gain, best gain: -inf\n",
      "[LightGBM] [Warning] No further splits with positive gain, best gain: -inf\n"
     ]
    }
   ],
   "source": [
    "import lightgbm as lg\n",
    "trains = lg.Dataset(data_train, label = tar, categorical_feature=['PdDis', 'DayWeek'])\n",
    "params = {\n",
    "    'boosting':'gbdt',\n",
    "    'objective':'multiclass',\n",
    "    'num_class':39,\n",
    "    'max_delta_step':0.9,\n",
    "    'min_data_in_leaf': 20,\n",
    "    'learning_rate': 0.4,\n",
    "    'max_bin': 480,\n",
    "    'num_leaves': 45,\n",
    "    'verbose' : 1\n",
    "}\n",
    "bst = lg.train(params, trains, 120)"
   ]
  },
  {
   "cell_type": "code",
   "execution_count": 24,
   "id": "cb24f493",
   "metadata": {
    "execution": {
     "iopub.execute_input": "2021-08-05T14:53:42.469867Z",
     "iopub.status.busy": "2021-08-05T14:53:42.469209Z",
     "iopub.status.idle": "2021-08-05T14:55:46.389626Z",
     "shell.execute_reply": "2021-08-05T14:55:46.390714Z",
     "shell.execute_reply.started": "2021-08-05T14:43:56.517811Z"
    },
    "papermill": {
     "duration": 124.004104,
     "end_time": "2021-08-05T14:55:46.390933",
     "exception": false,
     "start_time": "2021-08-05T14:53:42.386829",
     "status": "completed"
    },
    "tags": []
   },
   "outputs": [],
   "source": [
    "prediction = bst.predict(data_test)"
   ]
  },
  {
   "cell_type": "code",
   "execution_count": 25,
   "id": "6d97ec29",
   "metadata": {
    "execution": {
     "iopub.execute_input": "2021-08-05T14:55:46.562449Z",
     "iopub.status.busy": "2021-08-05T14:55:46.561511Z",
     "iopub.status.idle": "2021-08-05T14:57:05.905705Z",
     "shell.execute_reply": "2021-08-05T14:57:05.905112Z",
     "shell.execute_reply.started": "2021-08-05T14:47:45.240107Z"
    },
    "papermill": {
     "duration": 79.431794,
     "end_time": "2021-08-05T14:57:05.905883",
     "exception": false,
     "start_time": "2021-08-05T14:55:46.474089",
     "status": "completed"
    },
    "tags": []
   },
   "outputs": [],
   "source": [
    "result1 = pd.DataFrame(prediction, columns = LB.inverse_transform(np.linspace(0, 38, 39, dtype='int16')),index=data_test.index) \n",
    "result1.head()\n",
    "result1.to_csv('pred_submission', index_label = 'Id')"
   ]
  },
  {
   "cell_type": "code",
   "execution_count": null,
   "id": "856f89ac",
   "metadata": {
    "papermill": {
     "duration": 0.079042,
     "end_time": "2021-08-05T14:57:06.066916",
     "exception": false,
     "start_time": "2021-08-05T14:57:05.987874",
     "status": "completed"
    },
    "tags": []
   },
   "outputs": [],
   "source": []
  }
 ],
 "metadata": {
  "kernelspec": {
   "display_name": "Python 3",
   "language": "python",
   "name": "python3"
  },
  "language_info": {
   "codemirror_mode": {
    "name": "ipython",
    "version": 3
   },
   "file_extension": ".py",
   "mimetype": "text/x-python",
   "name": "python",
   "nbconvert_exporter": "python",
   "pygments_lexer": "ipython3",
   "version": "3.7.10"
  },
  "papermill": {
   "default_parameters": {},
   "duration": 403.840554,
   "end_time": "2021-08-05T14:57:07.058805",
   "environment_variables": {},
   "exception": null,
   "input_path": "__notebook__.ipynb",
   "output_path": "__notebook__.ipynb",
   "parameters": {},
   "start_time": "2021-08-05T14:50:23.218251",
   "version": "2.3.3"
  }
 },
 "nbformat": 4,
 "nbformat_minor": 5
}
